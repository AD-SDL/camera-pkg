{
 "cells": [
  {
   "cell_type": "markdown",
   "metadata": {},
   "source": [
    "# Color Detect Example\n",
    "Some magic happens here."
   ]
  },
  {
   "cell_type": "code",
   "execution_count": null,
   "metadata": {},
   "outputs": [],
   "source": [
    "#standard imports\n",
    "import time\n",
    "import os\n",
    "from pprint import pprint"
   ]
  },
  {
   "cell_type": "code",
   "execution_count": null,
   "metadata": {},
   "outputs": [],
   "source": [
    "#import specific methods\n",
    "from ..rpl_cv.methods.get_colors import get_colors"
   ]
  },
  {
   "cell_type": "markdown",
   "metadata": {},
   "source": [
    "## main loop\n",
    "Here some magic will happen inside a loop and we will plot some cool images"
   ]
  },
  {
   "cell_type": "code",
   "execution_count": null,
   "metadata": {},
   "outputs": [],
   "source": [
    "\n",
    "for i in range(2, 8):\n",
    "    img = cv2.imread(f'../data/colorpick/IMG_181{i}.png')\n",
    "    img = match_size(img, (1280, 1920))\n",
    "    s = time.time()\n",
    "    colors = get_colors(img)\n",
    "    e = time.time()\n",
    "    print(e-s)\n",
    "    pprint(colors)\n",
    "    print(colors[1]['A2'])"
   ]
  }
 ],
 "metadata": {
  "language_info": {
   "name": "python"
  },
  "orig_nbformat": 4
 },
 "nbformat": 4,
 "nbformat_minor": 2
}
